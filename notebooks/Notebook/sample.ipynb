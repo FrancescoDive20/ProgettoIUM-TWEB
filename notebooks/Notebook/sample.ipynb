{
 "cells": [
  {
   "metadata": {},
   "cell_type": "markdown",
   "source": [
    "# Analisi dei Dati sul Cinema \n",
    "\n",
    "Questo Notebook analizza un dataset riguardante il mondo del cinema, \n",
    "comprendente dati relativi a film, attori, crew, recensioni, premi Oscar, release e altro ancora.\n",
    "\n",
    "Le sezioni principali includono:\n",
    "- Caricamento e pulizia dei dataset.\n",
    "- Analisi esplorativa: distribuzione dei rating, trend temporali, analisi geografica delle release.\n",
    "- Analisi testuale: estrazione e visualizzazione delle parole chiave dalle tagline e descrizioni.\n",
    "- Integrazione dei dataset di attori e crew per individuare le partecipazioni.\n"
   ],
   "id": "96939e374f4abb1e"
  },
  {
   "metadata": {
    "ExecuteTime": {
     "end_time": "2025-06-25T18:43:45.658349Z",
     "start_time": "2025-06-25T18:43:45.654308Z"
    }
   },
   "cell_type": "code",
   "source": [
    "import pandas as pd\n",
    "import numpy as np\n",
    "import plotly.graph_objects as go\n",
    "import plotly.express as px\n",
    "import plotly.io as pio\n",
    "from collections import Counter\n",
    "from nltk.corpus import stopwords"
   ],
   "id": "7823d60a0c04b4c7",
   "outputs": [],
   "execution_count": 15
  },
  {
   "metadata": {},
   "cell_type": "markdown",
   "source": [
    "## Funzioni Ausiliarie\n",
    "\n",
    "Definiamo alcune funzioni utili:\n",
    "- `convert_date`: converte le colonne data in formato datetime.\n",
    "- `extract_keywords`: estrae le parole chiave da un testo, considerando solo parole di lunghezza minima."
   ],
   "id": "a56ef6f3cfb24932"
  },
  {
   "metadata": {
    "ExecuteTime": {
     "end_time": "2025-06-25T18:39:22.504870Z",
     "start_time": "2025-06-25T18:39:22.499492Z"
    }
   },
   "cell_type": "code",
   "source": [
    "def extract_keywords(text, min_length=4):\n",
    "    \"\"\"\n",
    "    Estrae parole chiave da un testo: prende le parole con lunghezza maggiore o uguale a min_length.\n",
    "    Restituisce una lista di parole in minuscolo.\n",
    "    \"\"\"\n",
    "    if pd.isna(text):\n",
    "        return []\n",
    "    words = [word.lower() for word in text.split() if len(word) >= min_length]\n",
    "    return words"
   ],
   "id": "d204bd0b5681d448",
   "outputs": [],
   "execution_count": 3
  },
  {
   "metadata": {
    "ExecuteTime": {
     "end_time": "2025-06-25T18:39:24.402305Z",
     "start_time": "2025-06-25T18:39:24.397781Z"
    }
   },
   "cell_type": "code",
   "source": [
    "def convert_date(df, col):\n",
    "    \"\"\"\n",
    "    Converte la colonna 'col' del DataFrame 'df' in formato datetime.\n",
    "    \"\"\"\n",
    "    df[col] = pd.to_datetime(df[col], errors='coerce')\n",
    "    return df"
   ],
   "id": "fe13806aea294f3",
   "outputs": [],
   "execution_count": 4
  },
  {
   "metadata": {
    "ExecuteTime": {
     "end_time": "2025-06-25T18:39:26.125508Z",
     "start_time": "2025-06-25T18:39:26.119801Z"
    }
   },
   "cell_type": "code",
   "source": [
    "def calculate_growth_rate(df, year_col, count_col):\n",
    "    \"\"\"\n",
    "    Calcola il tasso di crescita percentuale del conteggio dei film tra il primo e l'ultimo anno.\n",
    "    \"\"\"\n",
    "    first_year = df[year_col].min()\n",
    "    last_year = df[year_col].max()\n",
    "    first_count = df[df[year_col] == first_year][count_col].sum()\n",
    "    last_count = df[df[year_col] == last_year][count_col].sum()\n",
    "    if first_count == 0:\n",
    "        return None\n",
    "    growth_rate = ((last_count - first_count) / first_count) * 100\n",
    "    return growth_rate"
   ],
   "id": "a864d37610b3c56e",
   "outputs": [],
   "execution_count": 5
  },
  {
   "metadata": {},
   "cell_type": "markdown",
   "source": [
    "## Caricamento dei Dataset\n",
    "\n",
    "Carichiamo i dataset principali"
   ],
   "id": "c6afc88cb740534b"
  },
  {
   "metadata": {
    "ExecuteTime": {
     "end_time": "2025-06-25T18:40:05.234813Z",
     "start_time": "2025-06-25T18:39:47.245538Z"
    }
   },
   "cell_type": "code",
   "source": [
    "# Caricamento dei dataset principali\n",
    "movies = pd.read_csv(\"data/movies.csv\")\n",
    "actors = pd.read_csv(\"data/actors.csv\")\n",
    "crew = pd.read_csv(\"data/crew.csv\")\n",
    "reviews = pd.read_csv(\"data/rotten_tomatoes_reviews.csv\")\n",
    "oscar_awards = pd.read_csv(\"data/the_oscar_awards.csv\")\n",
    "countries = pd.read_csv(\"data/countries.csv\")\n",
    "releases = pd.read_csv(\"data/releases.csv\")\n"
   ],
   "id": "e526ddbf1a616c99",
   "outputs": [],
   "execution_count": 6
  },
  {
   "metadata": {},
   "cell_type": "markdown",
   "source": [
    "\n",
    "## Esplorazione e Pulizia dei Dati\n",
    "\n",
    "- Verifichiamo ed eventualmento rimuoviamo i valori mancanti.\n",
    "- Rimuoviamo duplicati.\n",
    "- Convertiamo le colonne.\n"
   ],
   "id": "701c07a714499f44"
  },
  {
   "metadata": {
    "ExecuteTime": {
     "end_time": "2025-06-25T18:41:00.590991Z",
     "start_time": "2025-06-25T18:40:42.927201Z"
    }
   },
   "cell_type": "code",
   "source": [
    "# Visualizziamo i valori mancanti per il dataset dei film\n",
    "print(\"Valori mancanti in 'movies':\")\n",
    "print(movies.isnull().sum())\n",
    "\n",
    "# Rimozione dei duplicati\n",
    "movies.drop_duplicates(subset=[\"id\"], inplace=True)\n",
    "actors.drop_duplicates(inplace=True)\n",
    "crew.drop_duplicates(inplace=True)\n",
    "reviews.drop_duplicates(inplace=True)\n",
    "oscar_awards.drop_duplicates(inplace=True)\n",
    "countries.drop_duplicates(inplace=True)\n",
    "releases.drop_duplicates(inplace=True)\n",
    "\n",
    "# Conversione delle colonne data\n",
    "movies = convert_date(movies, 'date')\n",
    "releases = convert_date(releases, 'date')\n",
    "reviews = convert_date(reviews, 'review_date')"
   ],
   "id": "dc7a5f2a1a04fb82",
   "outputs": [
    {
     "name": "stdout",
     "output_type": "stream",
     "text": [
      "Valori mancanti in 'movies':\n",
      "id                  0\n",
      "name               10\n",
      "date            91913\n",
      "tagline        802210\n",
      "description    160812\n",
      "minute         181570\n",
      "rating         850598\n",
      "dtype: int64\n"
     ]
    }
   ],
   "execution_count": 7
  },
  {
   "metadata": {
    "ExecuteTime": {
     "end_time": "2025-06-25T18:41:02.906636Z",
     "start_time": "2025-06-25T18:41:00.618992Z"
    }
   },
   "cell_type": "code",
   "source": [
    "# Statistiche di base\n",
    "print(\"\\nNumero di film unici:\", movies.shape[0])\n",
    "print(\"Numero di attori unici:\", actors['name'].nunique())\n",
    "print(\"Numero di recensioni:\", reviews.shape[0])\n",
    "print(\"Numero di rilasci unici:\", releases.shape[0])\n",
    "print(\"Numero di paesi unici:\", countries['country'].nunique())"
   ],
   "id": "9b928b8069bf9a5b",
   "outputs": [
    {
     "name": "stdout",
     "output_type": "stream",
     "text": [
      "\n",
      "Numero di film unici: 941597\n",
      "Numero di attori unici: 1600662\n",
      "Numero di recensioni: 1010416\n",
      "Numero di rilasci unici: 1332782\n",
      "Numero di paesi unici: 247\n"
     ]
    }
   ],
   "execution_count": 8
  },
  {
   "metadata": {},
   "cell_type": "markdown",
   "source": [
    "## Analisi Esplorativa\n",
    "\n",
    "### Distribuzione dei Rating dei Film\n",
    "\n",
    "Visualizziamo la distribuzione dei rating utilizzando matplotlib.\n"
   ],
   "id": "7ba6d48c4e72d973"
  },
  {
   "metadata": {
    "ExecuteTime": {
     "end_time": "2025-06-25T18:41:08.771117Z",
     "start_time": "2025-06-25T18:41:07.230835Z"
    }
   },
   "cell_type": "code",
   "source": [
    "fig1 = px.histogram(\n",
    "    movies,\n",
    "    x=\"rating\",\n",
    "    nbins=30,\n",
    "    title=\"Distribuzione dei Rating dei Film\",\n",
    "    labels={\"rating\": \"Rating\", \"count\": \"Numero di Film\"},\n",
    "    color_discrete_sequence=[\"skyblue\"]\n",
    ")\n",
    "fig1.update_layout(bargap=0.1)\n",
    "\n",
    "pio.write_html(fig1, \"plot_rating_distribution.html\", full_html=False, include_plotlyjs='cdn')\n",
    "\n"
   ],
   "id": "69cfb4839f069e5b",
   "outputs": [],
   "execution_count": 9
  },
  {
   "metadata": {},
   "cell_type": "markdown",
   "source": [
    "### Trend Temporali\n",
    "\n",
    "Analizziamo l'evoluzione nel tempo del numero di film e del rating medio.\n"
   ],
   "id": "be592d82d1cca35"
  },
  {
   "metadata": {
    "ExecuteTime": {
     "end_time": "2025-06-25T18:41:22.656870Z",
     "start_time": "2025-06-25T18:41:19.377472Z"
    }
   },
   "cell_type": "code",
   "source": [
    "from datetime import datetime\n",
    "\n",
    "movies['year'] = pd.to_numeric(movies['date'], errors='coerce')\n",
    "movies_unique = movies.groupby(['year', 'name']).agg({\n",
    "    'id': 'first',         \n",
    "    'rating': 'mean'       \n",
    "}).reset_index()\n",
    "\n",
    "movies_unique = movies_unique[(movies_unique['year'] >= 1895) & (movies_unique['year'] <= datetime.now().year)]\n",
    "\n",
    "movies_yearly = movies_unique.groupby(\"year\").agg({\"id\": \"count\", \"rating\": \"mean\"}).rename(columns={\"id\": \"num_unique_films\", \"rating\": \"avg_rating\"}).reset_index()\n",
    "\n",
    "fig2 = go.Figure()\n",
    "\n",
    "fig2.add_trace(go.Scatter(\n",
    "    x=movies_yearly['year'],\n",
    "    y=movies_yearly['num_unique_films'],\n",
    "    name=\"Numero di Film Unici\",\n",
    "    mode='lines+markers',\n",
    "    line=dict(color='teal'),\n",
    "    yaxis=\"y1\"\n",
    "))\n",
    "fig2.add_trace(go.Scatter(\n",
    "    x=movies_yearly['year'],\n",
    "    y=movies_yearly['avg_rating'],\n",
    "    name=\"Rating Medio\",\n",
    "    mode='lines+markers',\n",
    "    line=dict(color='coral'),\n",
    "    yaxis=\"y2\"\n",
    "))\n",
    "\n",
    "fig2.update_layout(\n",
    "    title=\"Trend Temporali: Numero di Film e Rating Medio per Anno\",\n",
    "    xaxis=dict(title=\"Anno\"),\n",
    "    yaxis=dict(\n",
    "    title=dict(text=\"Numero di Film\", font=dict(color='teal')),\n",
    "    tickfont=dict(color='teal')\n",
    "),\n",
    "yaxis2=dict(\n",
    "    title=dict(text=\"Rating Medio\", font=dict(color='coral')),\n",
    "    tickfont=dict(color='coral'),\n",
    "    overlaying='y',\n",
    "    side='right'\n",
    "),\n",
    "    legend=dict(x=0.1, y=1.1, orientation='h'),\n",
    "    hovermode=\"x unified\"\n",
    ")\n",
    "\n",
    "pio.write_html(fig2, \"plot_trend_temporali.html\", full_html=False, include_plotlyjs='cdn')"
   ],
   "id": "6881205621abff6f",
   "outputs": [],
   "execution_count": 10
  },
  {
   "metadata": {},
   "cell_type": "markdown",
   "source": [
    "### Analisi Geografica delle Release\n",
    "\n",
    "Possiamo visualizzare un bar chart con il numero di film per paese."
   ],
   "id": "d8345ab8dbda4dc4"
  },
  {
   "metadata": {
    "ExecuteTime": {
     "end_time": "2025-06-25T18:41:59.544358Z",
     "start_time": "2025-06-25T18:41:59.449344Z"
    }
   },
   "cell_type": "code",
   "source": [
    "country_counts = countries['country'].value_counts()\n",
    "\n",
    "fig3 = go.Figure(data=[go.Bar(\n",
    "    x=country_counts.index,\n",
    "    y=country_counts.values,\n",
    "    marker_color='navy'\n",
    ")])\n",
    "\n",
    "fig3.update_layout(\n",
    "    title=\"Numero di Film per Paese (Release)\",\n",
    "    xaxis_title=\"Paese\",\n",
    "    yaxis_title=\"Numero di Film\",\n",
    "    xaxis_tickangle=45\n",
    ")\n",
    "\n",
    "pio.write_html(fig3, \"plot_films_per_country.html\", full_html=False, include_plotlyjs='cdn')"
   ],
   "id": "e9daede924513ee5",
   "outputs": [],
   "execution_count": 11
  },
  {
   "metadata": {},
   "cell_type": "markdown",
   "source": [
    "### Analisi delle Frequenze delle Parole Chiave\n",
    "\n",
    "Estraiamo le parole chiave dalle tagline e dalle descrizioni dei film e visualizziamo le 20 parole più frequenti."
   ],
   "id": "9ef2813376784f0a"
  },
  {
   "metadata": {
    "ExecuteTime": {
     "end_time": "2025-06-25T18:44:05.528186Z",
     "start_time": "2025-06-25T18:43:52.358901Z"
    }
   },
   "cell_type": "code",
   "source": [
    "\n",
    "\n",
    "stop_words = set(stopwords.words('english'))\n",
    "\n",
    "def extract_keywords_filtered(text):\n",
    "    # Semplice split per tokenizzazione (puoi migliorare con nltk.word_tokenize)\n",
    "    words = text.lower().split()\n",
    "    # Rimuovi stopwords e parole molto corte (<=2 lettere)\n",
    "    filtered_words = [w for w in words if w.isalpha() and w not in stop_words and len(w) > 2]\n",
    "    return filtered_words\n",
    "\n",
    "movies['combined_text'] = movies['tagline'].fillna('') + \" \" + movies['description'].fillna('')\n",
    "\n",
    "all_words = []\n",
    "movies['combined_text'].apply(lambda x: all_words.extend(extract_keywords_filtered(x)))\n",
    "\n",
    "word_counts = Counter(all_words)\n",
    "top_words = word_counts.most_common(20)\n",
    "words, counts = zip(*top_words)\n",
    "\n",
    "fig4 = go.Figure(data=[go.Bar(\n",
    "    x=words,\n",
    "    y=counts,\n",
    "    marker_color='purple'\n",
    ")])\n",
    "\n",
    "fig4.update_layout(\n",
    "    title=\"Top 20 Parole Chiave in Tagline e Descrizioni\",\n",
    "    xaxis_title=\"Parola\",\n",
    "    yaxis_title=\"Frequenza\",\n",
    "    xaxis_tickangle=45\n",
    ")\n",
    "\n",
    "pio.write_html(fig4, \"plot_top_keywords.html\", full_html=False, include_plotlyjs='cdn')\n",
    "\n",
    "print(\"Top 20 parole chiave:\", top_words)\n"
   ],
   "id": "79e1f57636574a55",
   "outputs": [
    {
     "name": "stdout",
     "output_type": "stream",
     "text": [
      "Top 20 parole chiave: [('film', 123357), ('one', 104219), ('young', 80720), ('life', 77235), ('two', 71343), ('new', 69793), ('story', 66358), ('man', 60932), ('love', 57529), ('world', 48132), ('documentary', 44808), ('first', 44586), ('family', 40547), ('find', 40351), ('time', 39115), ('woman', 39012), ('years', 38019), ('get', 37715), ('people', 36945), ('short', 35763)]\n"
     ]
    }
   ],
   "execution_count": 16
  },
  {
   "metadata": {},
   "cell_type": "markdown",
   "source": [
    "### Integrazione maggiori Apparizioni tra Cast e Crew\n",
    "\n",
    "Calcoliamo il numero di apparizioni nei dataset di attori e crew, \n",
    "poi visualizziamo le top 10 persone con il maggior numero di apparizioni in generale."
   ],
   "id": "747d901235fc8083"
  },
  {
   "metadata": {
    "ExecuteTime": {
     "end_time": "2025-06-20T11:16:49.627125Z",
     "start_time": "2025-06-20T11:16:27.514145Z"
    }
   },
   "cell_type": "code",
   "source": [
    "actors_counts = actors['name'].value_counts().reset_index()\n",
    "actors_counts.columns = ['name', 'appearances']\n",
    "\n",
    "crew_counts = crew['name'].value_counts().reset_index()\n",
    "crew_counts.columns = ['name', 'appearances']\n",
    "\n",
    "combined_people = pd.merge(actors_counts, crew_counts, on=\"name\", how=\"outer\", suffixes=(\"_actor\", \"_crew\")).fillna(0)\n",
    "combined_people[\"total_appearances\"] = combined_people[\"appearances_actor\"] + combined_people[\"appearances_crew\"]\n",
    "\n",
    "top_people = combined_people.sort_values(\"total_appearances\", ascending=False).head(10)\n",
    "\n",
    "fig5 = go.Figure(data=[go.Bar(\n",
    "    y=top_people[\"name\"],\n",
    "    x=top_people[\"total_appearances\"],\n",
    "    orientation='h',\n",
    "    marker_color='orange'\n",
    ")])\n",
    "\n",
    "fig5.update_layout(\n",
    "    title=\"Top 10 Persone (Attori + Crew) per Numero di Apparizioni\",\n",
    "    xaxis_title=\"Numero di Apparizioni\",\n",
    "    yaxis_title=\"Nome\",\n",
    "    yaxis=dict(autorange=\"reversed\")  # Per avere massimo in alto\n",
    ")\n",
    "\n",
    "pio.write_html(fig5, \"plot_top_people.html\", full_html=False, include_plotlyjs='cdn')\n",
    "\n",
    "print(\"Top 10 persone (attori e crew) per apparizioni:\")\n",
    "print(top_people)"
   ],
   "id": "9d0a37cda8c8293e",
   "outputs": [
    {
     "name": "stdout",
     "output_type": "stream",
     "text": [
      "Top 10 persone (attori e crew) per apparizioni:\n",
      "                        name  appearances_actor  appearances_crew  \\\n",
      "1393406        Louis Lumière                4.0            1176.0   \n",
      "225111       Auguste Lumière               10.0            1072.0   \n",
      "1579689            Mel Blanc             1058.0               0.0   \n",
      "848644        Gérard Courant               67.0             965.0   \n",
      "805302   Gilbert M. Anderson              343.0             685.0   \n",
      "2368548          Walt Disney              241.0             725.0   \n",
      "376289        Cedric Gibbons                3.0             836.0   \n",
      "1432955         Mack Sennett              241.0             506.0   \n",
      "273822          Bess Flowers              696.0               0.0   \n",
      "932753           Ilaiyaraaja                6.0             680.0   \n",
      "\n",
      "         total_appearances  \n",
      "1393406             1180.0  \n",
      "225111              1082.0  \n",
      "1579689             1058.0  \n",
      "848644              1032.0  \n",
      "805302              1028.0  \n",
      "2368548              966.0  \n",
      "376289               839.0  \n",
      "1432955              747.0  \n",
      "273822               696.0  \n",
      "932753               686.0  \n"
     ]
    }
   ],
   "execution_count": 21
  },
  {
   "metadata": {},
   "cell_type": "markdown",
   "source": "### Calcolo del Tasso di Crescita del Numero di Film",
   "id": "81b31463a73a404d"
  },
  {
   "metadata": {
    "ExecuteTime": {
     "end_time": "2025-06-25T18:46:29.264975Z",
     "start_time": "2025-06-25T18:46:29.068436Z"
    }
   },
   "cell_type": "code",
   "source": [
    "import datetime\n",
    "current_year = datetime.datetime.now().year\n",
    "\n",
    "movies_filtered = movies[(movies['year'] >= 1900) & (movies['year'] <= current_year)]\n",
    "film_per_year = movies_filtered.groupby('year').size().sort_index()\n",
    "\n",
    "# Calcolo crescita anno su anno\n",
    "growth_rates = film_per_year.pct_change().dropna() * 100\n",
    "\n",
    "avg_growth = growth_rates.mean()\n",
    "\n",
    "print(f\"Crescita percentuale media annua: {avg_growth:.2f}%\")\n"
   ],
   "id": "d583b997e3b9fe0a",
   "outputs": [
    {
     "name": "stdout",
     "output_type": "stream",
     "text": [
      "Crescita percentuale media annua: 3.04%\n"
     ]
    }
   ],
   "execution_count": 20
  },
  {
   "metadata": {
    "ExecuteTime": {
     "end_time": "2025-06-25T18:46:34.864214Z",
     "start_time": "2025-06-25T18:46:31.427314Z"
    }
   },
   "cell_type": "code",
   "source": [
    "import matplotlib.pyplot as plt\n",
    "\n",
    "film_per_year.plot(title=\"Numero di film prodotti per anno\")\n",
    "plt.xlabel(\"Anno\")\n",
    "plt.ylabel(\"Numero di film\")\n",
    "plt.show()\n"
   ],
   "id": "1cb2dbd8905c3153",
   "outputs": [
    {
     "data": {
      "text/plain": [
       "<Figure size 640x480 with 1 Axes>"
      ],
      "image/png": "[encoded data removed]"
     },
     "metadata": {},
     "output_type": "display_data"
    }
   ],
   "execution_count": 21
  },
  {
   "metadata": {
    "ExecuteTime": {
     "end_time": "2025-06-25T18:46:37.401800Z",
     "start_time": "2025-06-25T18:46:37.271628Z"
    }
   },
   "cell_type": "code",
   "source": [
    "growth_rates.plot(title=\"Crescita percentuale anno su anno\")\n",
    "plt.xlabel(\"Anno\")\n",
    "plt.ylabel(\"Crescita %\")\n",
    "plt.show()\n"
   ],
   "id": "bb65d5b04f4e411f",
   "outputs": [
    {
     "data": {
      "text/plain": [
       "<Figure size 640x480 with 1 Axes>"
      ],
      "image/png": "[encoded data removed]"
     },
     "metadata": {},
     "output_type": "display_data"
    }
   ],
   "execution_count": 22
  }
 ],
 "metadata": {
  "kernelspec": {
   "display_name": "Python 3",
   "language": "python",
   "name": "python3"
  },
  "language_info": {
   "codemirror_mode": {
    "name": "ipython",
    "version": 2
   },
   "file_extension": ".py",
   "mimetype": "text/x-python",
   "name": "python",
   "nbconvert_exporter": "python",
   "pygments_lexer": "ipython2",
   "version": "2.7.6"
  }
 },
 "nbformat": 4,
 "nbformat_minor": 5
}
